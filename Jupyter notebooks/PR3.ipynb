{
 "cells": [
  {
   "cell_type": "code",
   "execution_count": 1,
   "id": "1902eb13-f80a-4cbd-9d9d-2244aa0806e6",
   "metadata": {},
   "outputs": [],
   "source": [
    "import pandas as pd\n",
    "import numpy as np"
   ]
  },
  {
   "cell_type": "code",
   "execution_count": 2,
   "id": "bf99167f-7f37-402b-9aa7-30f35c90620b",
   "metadata": {},
   "outputs": [
    {
     "name": "stdout",
     "output_type": "stream",
     "text": [
      "             Timestamp                       Email Address  \\\n",
      "0   1/17/2022 12:45:09       sejal.zambare19@pccoepune.org   \n",
      "1   1/17/2022 12:45:44    rushikesh.thorat19@pccoepune.org   \n",
      "2   1/17/2022 12:46:10     atharv.sontakke19@pccoepune.org   \n",
      "3   1/17/2022 12:46:21     amisha.sherekar19@pccoepune.org   \n",
      "4   1/17/2022 12:46:31  saurabh.sawardekar19@pccoepune.org   \n",
      "..                 ...                                 ...   \n",
      "59   1/20/2022 9:24:40      pratik.meshram20@pccoepune.org   \n",
      "60   1/20/2022 9:36:14         prasad.zore19@pccoepune.org   \n",
      "61   1/20/2022 9:42:34         sudhir.varu19@pccoepune.org   \n",
      "62  1/20/2022 10:22:05  bhagyashree.takale19@pccoepune.org   \n",
      "63  1/20/2022 10:38:06    sarvesh.waghmare19@pccoepune.org   \n",
      "\n",
      "                         Name                               Email  Roll no   \\\n",
      "0               Sejal Zambare           sejal.zambare19@gmail.com  TECOC359   \n",
      "1      Rushikesh Vilas Thorat    rushikesh.thorat19@pccoepune.org  TECOC347   \n",
      "2             Atharv Sontakke         atharv123sontakke@gmail.com  TECOC340   \n",
      "3       Amisha Sunil Sherekar     amisha.sherekar19@pccoepune.org  TECOC328   \n",
      "4     Saurabh Raju Sawardekar  saurabh.sawardekar19@pccoepune.org  TECOC326   \n",
      "..                        ...                                 ...       ...   \n",
      "59       Pratik Amrut Meshram      pratik.meshram20@pccoepune.org  TECOC381   \n",
      "60                Prasad Zore             prasad.zore@outlook.com  TECOC360   \n",
      "61                SUDHIR VARU              sudhirvaru01@gmail.com  TECOC351   \n",
      "62  Bhagyashree Gorakh Takale           bbhagyashree002@gmail.com  TECOC345   \n",
      "63  Waghmare Sarvesh Jitendra    sarvesh.waghmare19@pccoepune.org  TECOC356   \n",
      "\n",
      "      PRN No.  Mobile No.  First year:   Sem 1  First year:   Sem 2  \\\n",
      "0   72026841K  8208217782                 8.40                 8.60   \n",
      "1   72026776F  9021261925                 8.14                 8.14   \n",
      "2   72026742M  9009804629                 6.61                 6.61   \n",
      "3   72026696D  8698227548                 7.20                 7.30   \n",
      "4   72026682D  7774072850                 7.05                 7.45   \n",
      "..        ...         ...                  ...                  ...   \n",
      "59  72164278M  7666479857                 0.00                 0.00   \n",
      "60  72026843F  7387645749                 8.31                 8.27   \n",
      "61  72026799E  9657017250                 8.31                 8.42   \n",
      "62  72026760K  8805813576                 8.70                 8.50   \n",
      "63  72026817G  7218935035                 6.90                 7.07   \n",
      "\n",
      "    Second year:   Sem 1  Second year:   Sem 2  \n",
      "0                   9.80                  9.90  \n",
      "1                   9.32                  9.82  \n",
      "2                   9.14                  9.14  \n",
      "3                   8.90                  9.20  \n",
      "4                   9.05                  9.40  \n",
      "..                   ...                   ...  \n",
      "59                  9.09                  9.36  \n",
      "60                  9.45                  9.77  \n",
      "61                  8.53                  8.64  \n",
      "62                  8.70                  8.80  \n",
      "63                  9.05                  9.20  \n",
      "\n",
      "[64 rows x 11 columns]\n"
     ]
    }
   ],
   "source": [
    "data=pd.read_csv('acedamic performance.csv')\n",
    "print(data)"
   ]
  },
  {
   "cell_type": "code",
   "execution_count": 3,
   "id": "855028b9-ab6b-4f1e-89c1-57baa56cdf5f",
   "metadata": {},
   "outputs": [
    {
     "data": {
      "text/plain": [
       "Timestamp               0\n",
       "Email Address           0\n",
       "Name                    0\n",
       "Email                   0\n",
       "Roll no                 0\n",
       "PRN No.                 0\n",
       "Mobile No.              0\n",
       "First year:   Sem 1     0\n",
       "First year:   Sem 2     0\n",
       "Second year:   Sem 1    0\n",
       "Second year:   Sem 2    0\n",
       "dtype: int64"
      ]
     },
     "execution_count": 3,
     "metadata": {},
     "output_type": "execute_result"
    }
   ],
   "source": [
    "data.isnull().sum()"
   ]
  },
  {
   "cell_type": "code",
   "execution_count": 7,
   "id": "4b25dfff-a0da-45e5-8be4-11c286734fd7",
   "metadata": {},
   "outputs": [
    {
     "name": "stdout",
     "output_type": "stream",
     "text": [
      "8.83421875\n",
      "9.095468749999998\n",
      "9.29203125\n",
      "9.3771875\n"
     ]
    }
   ],
   "source": [
    "print(data['First year:   Sem 1'].mean())\n",
    "print(data['First year:   Sem 2'].mean())\n",
    "print(data['Second year:   Sem 1'].mean())\n",
    "print(data['Second year:   Sem 2'].mean())\n"
   ]
  },
  {
   "cell_type": "code",
   "execution_count": 8,
   "id": "2c2c4f5c-6a30-403a-acdc-e3b4e55f9b6e",
   "metadata": {},
   "outputs": [
    {
     "name": "stdout",
     "output_type": "stream",
     "text": [
      "8.26\n",
      "8.4\n",
      "9.445\n",
      "9.45\n"
     ]
    }
   ],
   "source": [
    "print(data['First year:   Sem 1'].median())\n",
    "print(data['First year:   Sem 2'].median())\n",
    "print(data['Second year:   Sem 1'].median())\n",
    "print(data['Second year:   Sem 2'].median())"
   ]
  },
  {
   "cell_type": "code",
   "execution_count": 9,
   "id": "9a287cfc-1305-400b-a386-e43c66519d10",
   "metadata": {},
   "outputs": [
    {
     "name": "stdout",
     "output_type": "stream",
     "text": [
      "0    0.0\n",
      "Name: First year:   Sem 1, dtype: float64\n",
      "0    0.0\n",
      "Name: First year:   Sem 2, dtype: float64\n",
      "0    9.05\n",
      "1    9.50\n",
      "2    9.59\n",
      "3    9.86\n",
      "Name: Second year:   Sem 1, dtype: float64\n",
      "0    9.66\n",
      "Name: Second year:   Sem 2, dtype: float64\n"
     ]
    }
   ],
   "source": [
    "print(data['First year:   Sem 1'].mode())\n",
    "print(data['First year:   Sem 2'].mode())\n",
    "print(data['Second year:   Sem 1'].mode())\n",
    "print(data['Second year:   Sem 2'].mode())"
   ]
  },
  {
   "cell_type": "code",
   "execution_count": 11,
   "id": "97f10a19-6479-42fb-8238-14b650209883",
   "metadata": {},
   "outputs": [
    {
     "name": "stdout",
     "output_type": "stream",
     "text": [
      "min 6.9\n",
      "max 9.91\n",
      "std 0.5285234889510738\n",
      "variance 0.27933707837301586\n"
     ]
    }
   ],
   "source": [
    "print(\"min\",data['Second year:   Sem 1'].min())\n",
    "print(\"max\",data['Second year:   Sem 1'].max())\n",
    "print(\"std\",data['Second year:   Sem 1'].std())\n",
    "print(\"variance\",data['Second year:   Sem 1'].var())"
   ]
  },
  {
   "cell_type": "code",
   "execution_count": null,
   "id": "197848fd-820f-447f-8918-261c63bed71c",
   "metadata": {},
   "outputs": [],
   "source": []
  }
 ],
 "metadata": {
  "kernelspec": {
   "display_name": "Python 3 (ipykernel)",
   "language": "python",
   "name": "python3"
  },
  "language_info": {
   "codemirror_mode": {
    "name": "ipython",
    "version": 3
   },
   "file_extension": ".py",
   "mimetype": "text/x-python",
   "name": "python",
   "nbconvert_exporter": "python",
   "pygments_lexer": "ipython3",
   "version": "3.11.5"
  }
 },
 "nbformat": 4,
 "nbformat_minor": 5
}
